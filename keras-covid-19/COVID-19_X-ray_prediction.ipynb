{
 "cells": [
  {
   "cell_type": "markdown",
   "metadata": {},
   "source": [
    "# How could COVID-19 be detected in X-ray images?\n",
    "\n",
    "\n",
    "COVID-19 tests are currently hard to come by — there are simply not enough of them and they cannot be manufactured fast enough, which is causing panic.\n",
    "\n",
    "When there’s panic, there are nefarious people looking to take advantage of others, namely by selling fake COVID-19 test kits after finding victims on social media platforms and chat applications.\n",
    "\n",
    "Given that there are limited COVID-19 testing kits, we need to rely on other diagnosis measures.\n",
    "\n",
    "For the purposes of this tutorial, I thought to explore X-ray images as doctors frequently use X-rays and CT scans to diagnose pneumonia, lung inflammation, abscesses, and/or enlarged lymph nodes.\n",
    "\n",
    "Since COVID-19 attacks the epithelial cells that line our respiratory tract, we can use X-rays to analyze the health of a patient’s lungs.\n",
    "\n",
    "And given that nearly all hospitals have X-ray imaging machines, it could be possible to use X-rays to test for COVID-19 without the dedicated test kits.\n",
    "\n",
    "A drawback is that X-ray analysis requires a radiology expert and takes significant time — which is precious when people are sick around the world. Therefore developing an automated analysis system is required to save medical professionals valuable time."
   ]
  },
  {
   "cell_type": "markdown",
   "metadata": {},
   "source": [
    "## Our COVID-19 patient X-ray image dataset"
   ]
  },
  {
   "cell_type": "markdown",
   "metadata": {},
   "source": [
    "CoronaVirus (COVID-19) chest X-ray image data. On the left we have positive (i.e., infected) X-ray images, whereas on the right we have negative samples. These images are used to train a deep learning model with TensorFlow and Keras to automatically predict whether a patient has COVID-19 (i.e., coronavirus).\n"
   ]
  },
  {
   "cell_type": "code",
   "execution_count": 6,
   "metadata": {},
   "outputs": [
    {
     "data": {
      "text/html": [
       "<img src=\"https://www.pyimagesearch.com/wp-content/uploads/2020/03/covid19_keras_dataset.png\"/>"
      ],
      "text/plain": [
       "<IPython.core.display.Image object>"
      ]
     },
     "execution_count": 6,
     "metadata": {},
     "output_type": "execute_result"
    }
   ],
   "source": [
    "from IPython.display import Image\n",
    "from IPython.core.display import HTML \n",
    "Image(url= \"https://www.pyimagesearch.com/wp-content/uploads/2020/03/covid19_keras_dataset.png\")\n"
   ]
  },
  {
   "cell_type": "markdown",
   "metadata": {},
   "source": [
    "The COVID-19 X-ray image dataset we’ll be using for this tutorial was curated by Dr. Joseph Cohen, a postdoctoral fellow at the University of Montreal.\n",
    "\n",
    "One week ago, Dr. Cohen started collecting X-ray images of COVID-19 cases and publishing them in the [following GitHub repo](https://github.com/ieee8023/covid-chestxray-dataset).\n",
    "\n",
    "Inside the repo you’ll find example of COVID-19 cases, as well as MERS, SARS, and ARDS.\n",
    "\n",
    "In order to create the COVID-19 X-ray image dataset, we:\n",
    "\n",
    "1. Parsed the metadata.csv file found in Dr. Cohen’s repository.\n",
    "2. Selected all rows that are:\n",
    "   1. Positive for COVID-19 (i.e., ignoring MERS, SARS, and ARDS cases).\n",
    "   2. Posterioranterior (PA) view of the lungs. I used the PA view as, to my knowledge, that was the view used for my “healthy” cases, as discussed below; however, I’m sure that a medical professional will be able clarify and correct me if I am incorrect (which I very well may be, this is just an example).\n",
    "   \n",
    "In total, that left us with 25 X-ray images of positive COVID-19 cases(Figure 2, left).\n",
    "\n",
    "The next step was to sample X-ray images of healthy patients.\n",
    "\n",
    "To do so, we used Kaggle’s Chest X-Ray Images (Pneumonia) dataset and sampled 25 X-ray images from healthy patients (Figure 2, right). There are a number of problems with Kaggle’s Chest X-Ray dataset, namely noisy/incorrect labels, but it served as a good enough starting point for this proof of concept COVID-19 detector.\n",
    "\n",
    "**After gathering my dataset, we were left with 50 total images, equally split with 25 images of COVID-19 positive X-rays and 25 images of healthy patient X-rays.**"
   ]
  },
  {
   "cell_type": "markdown",
   "metadata": {},
   "source": [
    "## Implementing our COVID-19 training script using Keras and TensorFlow"
   ]
  },
  {
   "cell_type": "markdown",
   "metadata": {},
   "source": [
    "### Import Libraries"
   ]
  },
  {
   "cell_type": "code",
   "execution_count": 1,
   "metadata": {},
   "outputs": [],
   "source": [
    "# USAGE\n",
    "# python train.py --dataset dataset\n",
    "\n",
    "# import the necessary packages\n",
    "from tensorflow.keras.preprocessing.image import ImageDataGenerator\n",
    "from tensorflow.keras.applications import VGG16\n",
    "from tensorflow.keras.layers import AveragePooling2D\n",
    "from tensorflow.keras.layers import Dropout\n",
    "from tensorflow.keras.layers import Flatten\n",
    "from tensorflow.keras.layers import Dense\n",
    "from tensorflow.keras.layers import Input\n",
    "from tensorflow.keras.models import Model\n",
    "from tensorflow.keras.optimizers import Adam\n",
    "from tensorflow.keras.utils import to_categorical\n",
    "from sklearn.preprocessing import LabelBinarizer\n",
    "from sklearn.model_selection import train_test_split\n",
    "from sklearn.metrics import classification_report\n",
    "from sklearn.metrics import confusion_matrix\n",
    "from imutils import paths\n",
    "import matplotlib.pyplot as plt\n",
    "import numpy as np\n",
    "import argparse\n",
    "import cv2\n",
    "import os"
   ]
  },
  {
   "cell_type": "markdown",
   "metadata": {},
   "source": [
    "### Load and Preprcessing Data\n",
    "\n",
    "Load the image, and preprocess it by converting to RGB channel ordering, and resizing it to 224×224 pixels so that it is ready for our Convolutional Neural Network"
   ]
  },
  {
   "cell_type": "code",
   "execution_count": 2,
   "metadata": {},
   "outputs": [
    {
     "name": "stdout",
     "output_type": "stream",
     "text": [
      "[INFO] loading images...\n"
     ]
    }
   ],
   "source": [
    "args = {\"dataset\":'./dataset/'}\n",
    "\n",
    "# initialize the initial learning rate, number of epochs to train for,\n",
    "# and batch size\n",
    "INIT_LR = 1e-3\n",
    "EPOCHS = 25\n",
    "BS = 8\n",
    "\n",
    "# grab the list of images in our dataset directory, then initialize\n",
    "# the list of data (i.e., images) and class images\n",
    "print(\"[INFO] loading images...\")\n",
    "imagePaths = list(paths.list_images(args[\"dataset\"]))\n",
    "data = []\n",
    "labels = []\n",
    "\n",
    "# loop over the image paths\n",
    "for imagePath in imagePaths:\n",
    "\t# extract the class label from the filename\n",
    "\tlabel = imagePath.split(os.path.sep)[-2]\n",
    "\n",
    "\t# load the image, swap color channels, and resize it to be a fixed\n",
    "\t# 224x224 pixels while ignoring aspect ratio\n",
    "\timage = cv2.imread(imagePath)\n",
    "\timage = cv2.cvtColor(image, cv2.COLOR_BGR2RGB)\n",
    "\timage = cv2.resize(image, (224, 224))\n",
    "\n",
    "\t# update the data and labels lists, respectively\n",
    "\tdata.append(image)\n",
    "\tlabels.append(label)\n",
    "\n",
    "# convert the data and labels to NumPy arrays while scaling the pixel\n",
    "# intensities to the range [0, 255]\n",
    "data = np.array(data) / 255.0\n",
    "labels = np.array(labels)\n",
    "\n",
    "# perform one-hot encoding on the labels\n",
    "lb = LabelBinarizer()\n",
    "labels = lb.fit_transform(labels)\n",
    "labels = to_categorical(labels)"
   ]
  },
  {
   "cell_type": "markdown",
   "metadata": {},
   "source": [
    "### Create Data Generator to feed data to Deep Learning Model\n",
    "\n",
    "Construct our data split, reserving 80% of the data for training and 20% for testing.\n",
    "\n",
    "In order to ensure that our model generalizes, we perform data augmentation by setting the random image rotation setting to 15 degrees clockwise or counterclockwise."
   ]
  },
  {
   "cell_type": "code",
   "execution_count": 8,
   "metadata": {},
   "outputs": [],
   "source": [
    "# partition the data into training and testing splits using 80% of\n",
    "# the data for training and the remaining 20% for testing\n",
    "(trainX, testX, trainY, testY) = train_test_split(data, labels,\n",
    "\ttest_size=0.20, stratify=labels, random_state=42)\n",
    "\n",
    "# initialize the training data augmentation object\n",
    "trainAug = ImageDataGenerator(\n",
    "\trotation_range=15,\n",
    "\tfill_mode=\"nearest\")"
   ]
  },
  {
   "cell_type": "markdown",
   "metadata": {},
   "source": [
    "### Build Deep Learning CNN Model\n",
    "\n",
    "Instantiate the VGG16 network with weights pre-trained on ImageNet, leaving off the FC layer head.\n",
    "\n",
    "From there, we construct a new fully-connected layer head consisting of POOL => FC = SOFTMAX layers (Lines 88-93) and append it on top of VGG16 (Line 97).\n",
    "\n",
    "We then freeze the CONV weights of VGG16 such that only the FC layer head will be trained (Lines 101-102); this completes our fine-tuning setup.\n",
    "\n",
    "We’re now ready to compile and train our COVID-19 (coronavirus) deep learning model:"
   ]
  },
  {
   "cell_type": "code",
   "execution_count": 9,
   "metadata": {},
   "outputs": [
    {
     "name": "stdout",
     "output_type": "stream",
     "text": [
      "[INFO] compiling model...\n"
     ]
    }
   ],
   "source": [
    "# load the VGG16 network, ensuring the head FC layer sets are left\n",
    "# off\n",
    "baseModel = VGG16(weights=\"imagenet\", include_top=False,\n",
    "\tinput_tensor=Input(shape=(224, 224, 3)))\n",
    "\n",
    "# construct the head of the model that will be placed on top of the\n",
    "# the base model\n",
    "headModel = baseModel.output\n",
    "headModel = AveragePooling2D(pool_size=(4, 4))(headModel)\n",
    "headModel = Flatten(name=\"flatten\")(headModel)\n",
    "headModel = Dense(64, activation=\"relu\")(headModel)\n",
    "headModel = Dropout(0.5)(headModel)\n",
    "headModel = Dense(2, activation=\"softmax\")(headModel)\n",
    "\n",
    "# place the head FC model on top of the base model (this will become\n",
    "# the actual model we will train)\n",
    "model = Model(inputs=baseModel.input, outputs=headModel)\n",
    "\n",
    "# loop over all layers in the base model and freeze them so they will\n",
    "# *not* be updated during the first training process\n",
    "for layer in baseModel.layers:\n",
    "\tlayer.trainable = False\n",
    "\n"
   ]
  },
  {
   "cell_type": "markdown",
   "metadata": {},
   "source": [
    "### Compile and Train the CNN Model\n",
    "\n",
    "Compile the network with learning rate decay and the Adam optimizer. Given that this is a 2-class problem, we use \"binary_crossentropy\" loss rather than categorical crossentropy.\n",
    "\n",
    "To kick off our COVID-19 neural network training process, we make a call to Keras’ fit_generator method, while passing in our chest X-ray data via our data augmentation object"
   ]
  },
  {
   "cell_type": "code",
   "execution_count": 11,
   "metadata": {},
   "outputs": [
    {
     "name": "stdout",
     "output_type": "stream",
     "text": [
      "[INFO] compiling model...\n",
      "[INFO] training head...\n",
      "WARNING:tensorflow:sample_weight modes were coerced from\n",
      "  ...\n",
      "    to  \n",
      "  ['...']\n",
      "Train for 5 steps, validate on 10 samples\n",
      "Epoch 1/25\n",
      "5/5 [==============================] - 6s 1s/step - loss: 0.8263 - accuracy: 0.5000 - val_loss: 0.5567 - val_accuracy: 0.5000\n",
      "Epoch 2/25\n",
      "5/5 [==============================] - 5s 1s/step - loss: 0.8641 - accuracy: 0.4250 - val_loss: 0.5343 - val_accuracy: 0.5000\n",
      "Epoch 3/25\n",
      "5/5 [==============================] - 5s 1s/step - loss: 0.6674 - accuracy: 0.5250 - val_loss: 0.5053 - val_accuracy: 0.6250\n",
      "Epoch 4/25\n",
      "5/5 [==============================] - 5s 1s/step - loss: 0.8078 - accuracy: 0.4750 - val_loss: 0.5002 - val_accuracy: 0.6250\n",
      "Epoch 5/25\n",
      "5/5 [==============================] - 5s 1000ms/step - loss: 0.6390 - accuracy: 0.6500 - val_loss: 0.4744 - val_accuracy: 0.6250\n",
      "Epoch 6/25\n",
      "5/5 [==============================] - 5s 972ms/step - loss: 0.5615 - accuracy: 0.7250 - val_loss: 0.4434 - val_accuracy: 0.8750\n",
      "Epoch 7/25\n",
      "5/5 [==============================] - 5s 1s/step - loss: 0.5719 - accuracy: 0.6250 - val_loss: 0.4249 - val_accuracy: 0.8750\n",
      "Epoch 8/25\n",
      "5/5 [==============================] - 5s 1s/step - loss: 0.6260 - accuracy: 0.5750 - val_loss: 0.4083 - val_accuracy: 0.8750\n",
      "Epoch 9/25\n",
      "5/5 [==============================] - 5s 1s/step - loss: 0.5877 - accuracy: 0.6250 - val_loss: 0.4004 - val_accuracy: 0.8750\n",
      "Epoch 10/25\n",
      "5/5 [==============================] - 5s 1s/step - loss: 0.5356 - accuracy: 0.7250 - val_loss: 0.3880 - val_accuracy: 0.8750\n",
      "Epoch 11/25\n",
      "5/5 [==============================] - 5s 1s/step - loss: 0.4937 - accuracy: 0.7750 - val_loss: 0.3704 - val_accuracy: 0.8750\n",
      "Epoch 12/25\n",
      "5/5 [==============================] - 5s 1s/step - loss: 0.5234 - accuracy: 0.8000 - val_loss: 0.3588 - val_accuracy: 0.8750\n",
      "Epoch 13/25\n",
      "5/5 [==============================] - 5s 1s/step - loss: 0.4455 - accuracy: 0.8500 - val_loss: 0.3468 - val_accuracy: 0.8750\n",
      "Epoch 14/25\n",
      "5/5 [==============================] - 5s 1s/step - loss: 0.4618 - accuracy: 0.8750 - val_loss: 0.3354 - val_accuracy: 0.8750\n",
      "Epoch 15/25\n",
      "5/5 [==============================] - 5s 1s/step - loss: 0.4345 - accuracy: 0.9000 - val_loss: 0.3276 - val_accuracy: 0.8750\n",
      "Epoch 16/25\n",
      "5/5 [==============================] - 5s 1s/step - loss: 0.3993 - accuracy: 0.9500 - val_loss: 0.3175 - val_accuracy: 0.8750\n",
      "Epoch 17/25\n",
      "5/5 [==============================] - 5s 1s/step - loss: 0.4386 - accuracy: 0.8500 - val_loss: 0.3135 - val_accuracy: 0.8750\n",
      "Epoch 18/25\n",
      "5/5 [==============================] - 5s 1s/step - loss: 0.4262 - accuracy: 0.9000 - val_loss: 0.3008 - val_accuracy: 0.8750\n",
      "Epoch 19/25\n",
      "5/5 [==============================] - 5s 1s/step - loss: 0.4053 - accuracy: 0.8500 - val_loss: 0.2883 - val_accuracy: 0.8750\n",
      "Epoch 20/25\n",
      "5/5 [==============================] - 5s 1s/step - loss: 0.3540 - accuracy: 0.9000 - val_loss: 0.2796 - val_accuracy: 0.8750\n",
      "Epoch 21/25\n",
      "5/5 [==============================] - 5s 1s/step - loss: 0.3631 - accuracy: 0.9000 - val_loss: 0.2685 - val_accuracy: 0.8750\n",
      "Epoch 22/25\n",
      "5/5 [==============================] - 5s 1s/step - loss: 0.2802 - accuracy: 0.9750 - val_loss: 0.2665 - val_accuracy: 0.8750\n",
      "Epoch 23/25\n",
      "5/5 [==============================] - 5s 1s/step - loss: 0.3102 - accuracy: 0.9500 - val_loss: 0.2573 - val_accuracy: 0.8750\n",
      "Epoch 24/25\n",
      "5/5 [==============================] - 5s 1s/step - loss: 0.4204 - accuracy: 0.8750 - val_loss: 0.2448 - val_accuracy: 0.8750\n",
      "Epoch 25/25\n",
      "5/5 [==============================] - 5s 1s/step - loss: 0.3015 - accuracy: 0.9000 - val_loss: 0.2383 - val_accuracy: 0.8750\n"
     ]
    }
   ],
   "source": [
    "# compile our model\n",
    "print(\"[INFO] compiling model...\")\n",
    "opt = Adam(lr=INIT_LR, decay=INIT_LR / EPOCHS)\n",
    "model.compile(loss=\"binary_crossentropy\", optimizer=opt,\n",
    "\tmetrics=[\"accuracy\"])\n",
    "\n",
    "# train the head of the network\n",
    "print(\"[INFO] training head...\")\n",
    "H = model.fit_generator(\n",
    "\ttrainAug.flow(trainX, trainY, batch_size=BS),\n",
    "\tsteps_per_epoch=len(trainX) // BS,\n",
    "\tvalidation_data=(testX, testY),\n",
    "\tvalidation_steps=len(testX) // BS,\n",
    "\tepochs=EPOCHS)"
   ]
  },
  {
   "cell_type": "markdown",
   "metadata": {},
   "source": [
    "### Evaluate the model"
   ]
  },
  {
   "cell_type": "code",
   "execution_count": 12,
   "metadata": {},
   "outputs": [
    {
     "name": "stdout",
     "output_type": "stream",
     "text": [
      "[INFO] evaluating network...\n",
      "              precision    recall  f1-score   support\n",
      "\n",
      "       covid       1.00      0.80      0.89         5\n",
      "      normal       0.83      1.00      0.91         5\n",
      "\n",
      "    accuracy                           0.90        10\n",
      "   macro avg       0.92      0.90      0.90        10\n",
      "weighted avg       0.92      0.90      0.90        10\n",
      "\n"
     ]
    }
   ],
   "source": [
    "# make predictions on the testing set\n",
    "print(\"[INFO] evaluating network...\")\n",
    "predIdxs = model.predict(testX, batch_size=BS)\n",
    "\n",
    "# for each image in the testing set we need to find the index of the\n",
    "# label with corresponding largest predicted probability\n",
    "predIdxs = np.argmax(predIdxs, axis=1)\n",
    "\n",
    "# show a nicely formatted classification report\n",
    "print(classification_report(testY.argmax(axis=1), predIdxs,\n",
    "\ttarget_names=lb.classes_))"
   ]
  },
  {
   "cell_type": "markdown",
   "metadata": {},
   "source": [
    "### Confusion Matrix on Prediction Accuracy"
   ]
  },
  {
   "cell_type": "code",
   "execution_count": null,
   "metadata": {},
   "outputs": [],
   "source": [
    "# compute the confusion matrix and and use it to derive the raw\n",
    "# accuracy, sensitivity, and specificity\n",
    "cm = confusion_matrix(testY.argmax(axis=1), predIdxs)\n",
    "total = sum(sum(cm))\n",
    "acc = (cm[0, 0] + cm[1, 1]) / total\n",
    "sensitivity = cm[0, 0] / (cm[0, 0] + cm[0, 1])\n",
    "specificity = cm[1, 1] / (cm[1, 0] + cm[1, 1])\n",
    "\n",
    "# show the confusion matrix, accuracy, sensitivity, and specificity\n",
    "print(cm)\n",
    "print(\"acc: {:.4f}\".format(acc))\n",
    "print(\"sensitivity: {:.4f}\".format(sensitivity))\n",
    "print(\"specificity: {:.4f}\".format(specificity))"
   ]
  },
  {
   "cell_type": "markdown",
   "metadata": {},
   "source": [
    "### Plot training accuracy/loss history"
   ]
  },
  {
   "cell_type": "code",
   "execution_count": 14,
   "metadata": {},
   "outputs": [
    {
     "data": {
      "text/plain": [
       "<matplotlib.legend.Legend at 0x7fa52dc60fd0>"
      ]
     },
     "execution_count": 14,
     "metadata": {},
     "output_type": "execute_result"
    },
    {
     "data": {
      "image/png": "[encoded data removed]",
      "text/plain": [
       "<Figure size 432x288 with 1 Axes>"
      ]
     },
     "metadata": {},
     "output_type": "display_data"
    }
   ],
   "source": [
    "# plot the training loss and accuracy\n",
    "N = EPOCHS\n",
    "plt.style.use(\"ggplot\")\n",
    "plt.figure()\n",
    "plt.plot(np.arange(0, N), H.history[\"loss\"], label=\"train_loss\")\n",
    "plt.plot(np.arange(0, N), H.history[\"val_loss\"], label=\"val_loss\")\n",
    "plt.plot(np.arange(0, N), H.history[\"accuracy\"], label=\"train_acc\")\n",
    "plt.plot(np.arange(0, N), H.history[\"val_accuracy\"], label=\"val_acc\")\n",
    "plt.title(\"Training Loss and Accuracy on COVID-19 Dataset\")\n",
    "plt.xlabel(\"Epoch #\")\n",
    "plt.ylabel(\"Loss/Accuracy\")\n",
    "plt.legend(loc=\"lower left\")\n",
    "# plt.savefig(args[\"plot\"])"
   ]
  },
  {
   "cell_type": "markdown",
   "metadata": {},
   "source": [
    "### Save CNN Model"
   ]
  },
  {
   "cell_type": "code",
   "execution_count": 15,
   "metadata": {},
   "outputs": [
    {
     "name": "stdout",
     "output_type": "stream",
     "text": [
      "[INFO] saving COVID-19 detector model...\n"
     ]
    }
   ],
   "source": [
    "# serialize the model to disk\n",
    "print(\"[INFO] saving COVID-19 detector model...\")\n",
    "# model.save(args[\"model\"], save_format=\"h5\")"
   ]
  },
  {
   "cell_type": "markdown",
   "metadata": {},
   "source": [
    "## Credits"
   ]
  },
  {
   "cell_type": "markdown",
   "metadata": {},
   "source": [
    "[Adrian Rosebrock, Detecting COVID-19 in X-ray images with Keras, TensorFlow, and Deep Learning](https://www.pyimagesearch.com/2020/03/16/detecting-covid-19-in-x-ray-images-with-keras-tensorflow-and-deep-learning/#download-the-code)"
   ]
  }
 ],
 "metadata": {
  "kernelspec": {
   "display_name": "Python 3",
   "language": "python",
   "name": "python3"
  },
  "language_info": {
   "codemirror_mode": {
    "name": "ipython",
    "version": 3
   },
   "file_extension": ".py",
   "mimetype": "text/x-python",
   "name": "python",
   "nbconvert_exporter": "python",
   "pygments_lexer": "ipython3",
   "version": "3.7.5"
  }
 },
 "nbformat": 4,
 "nbformat_minor": 2
}
